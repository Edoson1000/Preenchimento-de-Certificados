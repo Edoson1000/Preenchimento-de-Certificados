{
 "cells": [
  {
   "cell_type": "code",
   "execution_count": null,
   "metadata": {},
   "outputs": [],
   "source": [
    "from tkinter import font\n",
    "from PIL import Image\n",
    "from PIL import ImageDraw\n",
    "from PIL import ImageFont\n",
    "\n",
    "\n",
    "\n",
    "\n",
    "import pandas as pd\n",
    "\n",
    "lista_alunos = pd.read_excel('planilha_alunos.xlsx')\n",
    "lista_alunos\n",
    "\n",
    "\n",
    "for linha in range(0,102):\n",
    "\n",
    "\n",
    "    \n",
    "    nome = lista_alunos['Nome Participante'][linha]\n",
    "    curso = lista_alunos['Nome do Curso'][linha]\n",
    "    participacao = lista_alunos['Tipo de Participação'][linha]\n",
    "    inicio = lista_alunos['Data de Início'][linha]\n",
    "    terminio = lista_alunos['Data de Término'][linha]\n",
    "    horas = lista_alunos['Carga Horária (horas)'][linha]\n",
    "    emissao  = lista_alunos['Data de Emissão do Certificado'][linha]\n",
    "    \n",
    "\n",
    "    fonte_nome = ImageFont.truetype('tahomabd.ttf', 90)\n",
    "    fonte_geral = ImageFont.truetype('tahoma.ttf', 80)\n",
    "    fonte_data = ImageFont.truetype('tahoma.ttf', 60)\n",
    "    imagem = Image.open('certificado_padrao.jpg')\n",
    "    \n",
    "    desenha = ImageDraw.Draw(imagem)\n",
    "\n",
    "    desenha.text((1020,827),nome,fill='black',font=fonte_nome)\n",
    "    desenha.text((1060,950),curso,fill='black',font=fonte_geral)\n",
    "    desenha.text((1435,1065),participacao,fill='black',font=fonte_geral)\n",
    "    desenha.text((750,1930),terminio,fill='blue',font=fonte_data)\n",
    "    desenha.text((750,1770),inicio,fill='blue',font=fonte_data)\n",
    "    desenha.text((2220,1930),emissao,fill='blue',font=fonte_data)\n",
    "    desenha.text((1480,1182),str(horas),fill='black',font=fonte_geral)\n",
    "\n",
    "    imagem.save(f'{linha}_{nome}_Certificado.jpg')"
   ]
  }
 ],
 "metadata": {
  "kernelspec": {
   "display_name": "Python 3",
   "language": "python",
   "name": "python3"
  },
  "language_info": {
   "codemirror_mode": {
    "name": "ipython",
    "version": 3
   },
   "file_extension": ".py",
   "mimetype": "text/x-python",
   "name": "python",
   "nbconvert_exporter": "python",
   "pygments_lexer": "ipython3",
   "version": "3.12.7"
  }
 },
 "nbformat": 4,
 "nbformat_minor": 2
}
